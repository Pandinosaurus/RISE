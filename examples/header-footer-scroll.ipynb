{
 "cells": [
  {
   "cell_type": "markdown",
   "metadata": {
    "collapsed": true
   },
   "source": [
    "Here we have defined `header`, `footer` and `backimage` - [see also the customization doc](http://rise.readthedocs.io/en/latest/customize.html).\n",
    "\n",
    "See [this other notebook](overlay.ipynb) for a short description of how to use `overlay` instead.\n",
    "\n",
    "This is a variant of the header-footer notebook, with `scroll` enabled"
   ]
  },
  {
   "cell_type": "markdown",
   "metadata": {
    "slideshow": {
     "slide_type": "slide"
    }
   },
   "source": [
    "# Slide 1\n",
    "\n",
    "* some regular slide\n",
    "* the content fits the page"
   ]
  },
  {
   "cell_type": "markdown",
   "metadata": {
    "collapsed": true,
    "slideshow": {
     "slide_type": "slide"
    }
   },
   "source": [
    "# Slide 2\n",
    "\n",
    "* see `header-footer-scroll.css` to see how to tweak the available space\n",
    "* now for a slide that has a large (high) content\n",
    "* we create a slide\n",
    "* with a rather extensive height\n",
    "* so as to see \n",
    "* if we can use `\"scroll\": true` in our settings\n",
    "* and check that the footer\n",
    "* does not overlap the contents\n",
    "* that should scroll within the available space\n",
    "* between header and footer\n",
    "* and again\n",
    "* we create a slide\n",
    "* with a rather extensive height\n",
    "* so as to see \n",
    "* if we can use `\"scroll\": true` in our settings\n",
    "* and check that the footer\n",
    "* does not overlap the contents\n",
    "* that should scroll within the available space\n",
    "* between header and footer\n",
    "* and a 3rd time\n",
    "* we create a slide\n",
    "* with a rather extensive height\n",
    "* so as to see \n",
    "* if we can use `\"scroll\": true` in our settings\n",
    "* and check that the footer\n",
    "* does not overlap the contents\n",
    "* that should scroll within the available space\n",
    "* between header and footer\n"
   ]
  }
 ],
 "metadata": {
  "celltoolbar": "Slideshow",
  "jupytext": {
   "formats": "ipynb"
  },
  "kernelspec": {
   "display_name": "Python 3 (ipykernel)",
   "language": "python",
   "name": "python3"
  },
  "language_info": {
   "codemirror_mode": {
    "name": "ipython",
    "version": 3
   },
   "file_extension": ".py",
   "mimetype": "text/x-python",
   "name": "python",
   "nbconvert_exporter": "python",
   "pygments_lexer": "ipython3",
   "version": "3.9.7"
  },
  "rise": {
   "autolaunch": true,
   "backimage": "mybackimage.png",
   "footer": "<h3>world</h3>",
   "header": "<h1>Hello</h1>",
   "scroll": true
  }
 },
 "nbformat": 4,
 "nbformat_minor": 2
}
